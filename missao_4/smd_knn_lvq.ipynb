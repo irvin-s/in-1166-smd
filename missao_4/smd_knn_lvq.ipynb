{
  "nbformat": 4,
  "nbformat_minor": 0,
  "metadata": {
    "colab": {
      "name": "smd_knn_lvq.ipynb",
      "provenance": [],
      "collapsed_sections": [],
      "authorship_tag": "ABX9TyOkTC9OQhXTflY3VasJyHvE"
    },
    "kernelspec": {
      "name": "python3",
      "display_name": "Python 3"
    }
  },
  "cells": [
    {
      "cell_type": "code",
      "metadata": {
        "id": "Aa0pjl_sVQ6T"
      },
      "source": [
        "#Iportação das libs\n",
        "import pandas as pd\n",
        "import numpy as np\n",
        "import matplotlib.pyplot as plt\n",
        "import seaborn as sb\n",
        "import missingno as msno\n",
        "from sklearn.model_selection import train_test_split\n",
        "from sklearn.preprocessing import MinMaxScaler\n",
        "from sklearn.neighbors import KNeighborsClassifier\n",
        "from sklearn.metrics import classification_report, confusion_matrix, accuracy_score"
      ],
      "execution_count": 152,
      "outputs": []
    },
    {
      "cell_type": "code",
      "metadata": {
        "id": "MwquAZ2tdhaA"
      },
      "source": [
        "df = pd.read_csv(\"https://raw.githubusercontent.com/irvin-s/in-1166-smd/main/missao_2/data/crx_semantic.data\", sep=',')"
      ],
      "execution_count": 153,
      "outputs": []
    },
    {
      "cell_type": "code",
      "metadata": {
        "id": "0rFBJWiASNHs"
      },
      "source": [
        "#Pré-processando os dados\n",
        "df = df.replace('?', np.nan)\n",
        "#Alterando os tipos das variáveis\n",
        "df['Age'] = df['Age'].astype(np.float16)\n",
        "#Atualizando valores nulos da variável Age com sua mediana. \n",
        "df.Age.fillna(df.Age.median(), inplace=True)\n",
        "#Atualizando os valores nulos das variáveis Sex, Married, BankCostumer, EducationLevel, Ethnicity com os valores mais frequentes\n",
        "a1_freq = df.Sex.value_counts().index[0]\n",
        "a4_freq = df.Married.value_counts().index[0]\n",
        "a5_freq = df.BankCostumer.value_counts().index[0]\n",
        "a6_freq = df.EducationLevel.value_counts().index[0]\n",
        "a7_freq = df.Ethnicity.value_counts().index[0]\n",
        "df.Sex.fillna(a1_freq, inplace=True)\n",
        "df.Married.fillna(a4_freq, inplace=True)\n",
        "df.BankCostumer.fillna(a5_freq, inplace=True)\n",
        "df.EducationLevel.fillna(a6_freq, inplace=True)\n",
        "df.Ethnicity.fillna(a7_freq, inplace=True)\n",
        "#Tranformar dados catégoricos em binários\n",
        "df_dummified = pd.get_dummies(df, columns=['Sex', 'Married', 'BankCostumer', 'EducationLevel', 'Ethnicity', 'PriorDefault', 'Employed', 'DriversLicense', 'Citizen'])\n",
        "df_dummified['Approved'] = df_dummified['Approved'].replace('+', 1)\n",
        "df_dummified['Approved'] = df_dummified['Approved'].replace('-', 0)\n",
        "#Normalizando os dados e criando Conjunto de Treino e Testes\n",
        "X = df_dummified.drop(['Approved', 'ZipCode'], axis=1)\n",
        "y = df_dummified['Approved']\n",
        "\n",
        "X_train, X_test, y_train, y_test = train_test_split(X, y, test_size=0.33, random_state=123)\n",
        "\n",
        "## Normalizando os dados\n",
        "scaler = MinMaxScaler()\n",
        "\n",
        "scaler.fit(X_train)\n",
        "\n",
        "X_train = scaler.transform(X_train)\n",
        "X_test = scaler.transform(X_test)"
      ],
      "execution_count": 154,
      "outputs": []
    },
    {
      "cell_type": "markdown",
      "metadata": {
        "id": "DMf6wPZfNtY3"
      },
      "source": [
        "Foram utilizadas várias téncias de pré-processamento, o dataset foi separado em treinamento e teste. As variáveis numéricas foram normalizadas para uma mesma escala."
      ]
    },
    {
      "cell_type": "code",
      "metadata": {
        "id": "OvErTuWDdxbN",
        "colab": {
          "base_uri": "https://localhost:8080/"
        },
        "outputId": "33bf770f-7908-4cfe-d75f-fb84c51f974d"
      },
      "source": [
        "#Minerando com KNN\n",
        "\n",
        "#Definindo o valor de vizinhos\n",
        "classifier = KNeighborsClassifier(n_neighbors=5)\n",
        "\n",
        "#Treinar o modelo, com os dados de treinamento\n",
        "classifier.fit(X_train, y_train)\n",
        "\n",
        "#Prever os valores de y com dos dados de X_test\n",
        "y_pred = classifier.predict(X_test)\n",
        "\n",
        "# Imprimindo a matriz confusa\n",
        "print(\"Matriz Confusa: \")\n",
        "print(confusion_matrix(y_test, y_pred), \"\\n\")  \n",
        "\n",
        "# Imprimindo o relatório de classificação\n",
        "print(\"Relatório de classificação: \\n\", classification_report(y_test, y_pred))  \n",
        "\n",
        "# Imprimindo o quão acurado foi o modelo\n",
        "print('Acurácia do modelo: ' , accuracy_score(y_test, y_pred))"
      ],
      "execution_count": 161,
      "outputs": [
        {
          "output_type": "stream",
          "text": [
            "Matriz Confusa: \n",
            "[[112   9]\n",
            " [ 18  89]] \n",
            "\n",
            "Relatório de classificação: \n",
            "               precision    recall  f1-score   support\n",
            "\n",
            "           0       0.86      0.93      0.89       121\n",
            "           1       0.91      0.83      0.87       107\n",
            "\n",
            "    accuracy                           0.88       228\n",
            "   macro avg       0.88      0.88      0.88       228\n",
            "weighted avg       0.88      0.88      0.88       228\n",
            "\n",
            "Acurácia do modelo:  0.881578947368421\n"
          ],
          "name": "stdout"
        }
      ]
    },
    {
      "cell_type": "markdown",
      "metadata": {
        "id": "cSft5nxNPNCm"
      },
      "source": [
        "O algoritmo KNN apresentou uma precisão de 86% para pedidos de crédito negados e de 91% para os pedidos aprovados. A acurácia do modelo foi de 88%. Para ter uma acurácia superior será necessário procurar outro valor de vizinhos(K)."
      ]
    },
    {
      "cell_type": "code",
      "metadata": {
        "id": "-gto7I9O8LH4"
      },
      "source": [
        "#Minerando com LVQ\n"
      ],
      "execution_count": null,
      "outputs": []
    },
    {
      "cell_type": "markdown",
      "metadata": {
        "id": "ZPjIVZGjVgYC"
      },
      "source": [
        ""
      ]
    }
  ]
}