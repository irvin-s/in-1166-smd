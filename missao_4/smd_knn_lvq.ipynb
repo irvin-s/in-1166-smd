{
  "nbformat": 4,
  "nbformat_minor": 0,
  "metadata": {
    "colab": {
      "name": "smd_knn_lvq.ipynb",
      "provenance": [],
      "collapsed_sections": [],
      "authorship_tag": "ABX9TyNOkE2wDpZoXqbh98yuDYoh"
    },
    "kernelspec": {
      "name": "python3",
      "display_name": "Python 3"
    }
  },
  "cells": [
    {
      "cell_type": "code",
      "metadata": {
        "id": "Aa0pjl_sVQ6T"
      },
      "source": [
        "#Iportação das libs\n",
        "import pandas as pd\n",
        "import numpy as np\n",
        "import matplotlib.pyplot as plt\n",
        "import seaborn as sb\n",
        "import missingno as msno\n",
        "from sklearn.model_selection import train_test_split\n",
        "from sklearn.preprocessing import MinMaxScaler"
      ],
      "execution_count": 128,
      "outputs": []
    },
    {
      "cell_type": "code",
      "metadata": {
        "id": "MwquAZ2tdhaA"
      },
      "source": [
        "df = pd.read_csv(\"https://raw.githubusercontent.com/irvin-s/in-1166-smd/main/missao_2/data/crx_semantic.data\", sep=',')"
      ],
      "execution_count": 129,
      "outputs": []
    },
    {
      "cell_type": "code",
      "metadata": {
        "id": "0rFBJWiASNHs"
      },
      "source": [
        "#Pré-processando os dados\n",
        "df = df.replace('?', np.nan)\n",
        "#Alterando os tipos das variáveis\n",
        "df['Age'] = df['Age'].astype(np.float16)\n",
        "#Atualizando valores nulos da variável Age com sua mediana. \n",
        "df.Age.fillna(df.Age.median(), inplace=True)\n",
        "#Atualizando os valores nulos das variáveis Sex, Married, BankCostumer, EducationLevel, Ethnicity com os valores mais frequentes\n",
        "a1_freq = df.Sex.value_counts().index[0]\n",
        "a4_freq = df.Married.value_counts().index[0]\n",
        "a5_freq = df.BankCostumer.value_counts().index[0]\n",
        "a6_freq = df.EducationLevel.value_counts().index[0]\n",
        "a7_freq = df.Ethnicity.value_counts().index[0]\n",
        "df.Sex.fillna(a1_freq, inplace=True)\n",
        "df.Married.fillna(a4_freq, inplace=True)\n",
        "df.BankCostumer.fillna(a5_freq, inplace=True)\n",
        "df.EducationLevel.fillna(a6_freq, inplace=True)\n",
        "df.Ethnicity.fillna(a7_freq, inplace=True)\n",
        "#Tranformar dados catégoricos em binários\n",
        "df_dummified = pd.get_dummies(df, columns=['Sex', 'Married', 'BankCostumer', 'EducationLevel', 'Ethnicity', 'PriorDefault', 'Employed', 'DriversLicense', 'Citizen'])\n",
        "df_dummified['Approved'] = df_dummified['Approved'].replace('+', 1)\n",
        "df_dummified['Approved'] = df_dummified['Approved'].replace('-', 0)\n",
        "#Normalizando os dados e criando Conjunto de Treino e Testes\n",
        "X = df_dummified.drop('Approved', axis=1)\n",
        "y = df_dummified['Approved']\n",
        "\n",
        "X_train, X_test, y_train, y_test = train_test_split(X, y, test_size=0.33, random_state=123)\n",
        "\n",
        "## Normalizando os dados\n",
        "scaler = MinMaxScaler()\n",
        "\n",
        "scaler.fit(X_train)\n",
        "\n",
        "X_train = scaler.transform(X_train)\n",
        "X_test = scaler.transform(X_test)"
      ],
      "execution_count": 127,
      "outputs": []
    },
    {
      "cell_type": "code",
      "metadata": {
        "id": "OvErTuWDdxbN"
      },
      "source": [
        "#Minerando com KNN\n",
        "\n"
      ],
      "execution_count": 79,
      "outputs": []
    },
    {
      "cell_type": "code",
      "metadata": {
        "id": "-gto7I9O8LH4"
      },
      "source": [
        "#Minerando com LVQ"
      ],
      "execution_count": null,
      "outputs": []
    },
    {
      "cell_type": "markdown",
      "metadata": {
        "id": "ZPjIVZGjVgYC"
      },
      "source": [
        ""
      ]
    }
  ]
}