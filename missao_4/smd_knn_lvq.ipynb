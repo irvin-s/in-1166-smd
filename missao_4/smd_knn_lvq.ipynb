{
  "nbformat": 4,
  "nbformat_minor": 0,
  "metadata": {
    "colab": {
      "name": "smd_knn_lvq.ipynb",
      "provenance": [],
      "collapsed_sections": [],
      "authorship_tag": "ABX9TyMFi5p/gnQLoJiqcmO5CNaa"
    },
    "kernelspec": {
      "name": "python3",
      "display_name": "Python 3"
    }
  },
  "cells": [
    {
      "cell_type": "code",
      "metadata": {
        "id": "Aa0pjl_sVQ6T"
      },
      "source": [
        "#Utilização dos algoritmos KNN e LVQ\n",
        "import pandas as pd\n",
        "import matplotlib.pyplot as plt\n",
        "import seaborn as sb"
      ],
      "execution_count": 2,
      "outputs": []
    },
    {
      "cell_type": "code",
      "metadata": {
        "id": "MwquAZ2tdhaA"
      },
      "source": [
        "df = pd.read_csv(\"https://raw.githubusercontent.com/irvin-s/in-1166-smd/main/missao_2/data/crx_semantic.data\", sep=',')"
      ],
      "execution_count": 3,
      "outputs": []
    },
    {
      "cell_type": "code",
      "metadata": {
        "id": "OvErTuWDdxbN"
      },
      "source": [
        "#Minerando com KNN"
      ],
      "execution_count": null,
      "outputs": []
    },
    {
      "cell_type": "code",
      "metadata": {
        "id": "-gto7I9O8LH4"
      },
      "source": [
        "#Minerando com LVQ"
      ],
      "execution_count": null,
      "outputs": []
    },
    {
      "cell_type": "markdown",
      "metadata": {
        "id": "ZPjIVZGjVgYC"
      },
      "source": [
        ""
      ]
    }
  ]
}