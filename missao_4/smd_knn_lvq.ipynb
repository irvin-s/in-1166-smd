{
  "nbformat": 4,
  "nbformat_minor": 0,
  "metadata": {
    "colab": {
      "name": "smd_knn_lvq.ipynb",
      "provenance": [],
      "collapsed_sections": [],
      "authorship_tag": "ABX9TyOWtxfMBr36cXsq9AIRMCFI"
    },
    "kernelspec": {
      "name": "python3",
      "display_name": "Python 3"
    }
  },
  "cells": [
    {
      "cell_type": "code",
      "metadata": {
        "id": "Aa0pjl_sVQ6T"
      },
      "source": [
        "#Utilização dos algoritmos KNN e LVQ\n",
        "import pandas as pd\n",
        "import matplotlib.pyplot as plt\n",
        "import seaborn as sb"
      ],
      "execution_count": 7,
      "outputs": []
    },
    {
      "cell_type": "code",
      "metadata": {
        "id": "MwquAZ2tdhaA"
      },
      "source": [
        "df = pd.read_csv(\"https://raw.githubusercontent.com/irvin-s/in-1166-smd/main/missao_2/data/crx.data\", sep=',')"
      ],
      "execution_count": 8,
      "outputs": []
    },
    {
      "cell_type": "code",
      "metadata": {
        "id": "OvErTuWDdxbN"
      },
      "source": [
        ""
      ],
      "execution_count": null,
      "outputs": []
    },
    {
      "cell_type": "markdown",
      "metadata": {
        "id": "ZPjIVZGjVgYC"
      },
      "source": [
        ""
      ]
    }
  ]
}