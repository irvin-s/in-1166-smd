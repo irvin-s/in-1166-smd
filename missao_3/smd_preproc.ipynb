{
  "nbformat": 4,
  "nbformat_minor": 0,
  "metadata": {
    "colab": {
      "name": "smd_preproc.ipynb",
      "provenance": [],
      "collapsed_sections": [],
      "authorship_tag": "ABX9TyOkhRJoLIiznn1vVAm4ksqp"
    },
    "kernelspec": {
      "name": "python3",
      "display_name": "Python 3"
    }
  },
  "cells": [
    {
      "cell_type": "code",
      "metadata": {
        "id": "aWMbN3pIYHEp"
      },
      "source": [
        "#https://towardsdatascience.com/data-pre-processing-techniques-you-should-know-8954662716d6\n",
        "#https://caiquecoelho.medium.com/um-guia-completo-para-o-pr%C3%A9-processamento-de-dados-em-machine-learning-f860fbadabe1\n",
        "import pandas as pd\n",
        "import seaborn as sb\n",
        "import matplotlib.pyplot as plt\n",
        "import numpy as np\n",
        "import missingno as msno\n",
        "from sklearn.preprocessing import Normalizer"
      ],
      "execution_count": 120,
      "outputs": []
    },
    {
      "cell_type": "code",
      "metadata": {
        "id": "3Y0hYAr6YuAe"
      },
      "source": [
        "df = pd.read_csv(\"https://raw.githubusercontent.com/irvin-s/in-1166-smd/main/missao_2/data/crx.data\", sep=',')"
      ],
      "execution_count": 121,
      "outputs": []
    },
    {
      "cell_type": "code",
      "metadata": {
        "colab": {
          "base_uri": "https://localhost:8080/"
        },
        "id": "Db6wk0mJeh2D",
        "outputId": "f8d18552-1bda-4fd3-c109-6897ec201eb5"
      },
      "source": [
        "#Verificando tamanho do dataset\n",
        "df.shape"
      ],
      "execution_count": 122,
      "outputs": [
        {
          "output_type": "execute_result",
          "data": {
            "text/plain": [
              "(690, 16)"
            ]
          },
          "metadata": {
            "tags": []
          },
          "execution_count": 122
        }
      ]
    },
    {
      "cell_type": "code",
      "metadata": {
        "id": "el2AlSPJGCBs",
        "colab": {
          "base_uri": "https://localhost:8080/"
        },
        "outputId": "a94570f3-b32a-4f49-ad50-54b28e1d59ee"
      },
      "source": [
        "#Verificando campos vazios, nulos e truncados.\n",
        "df.isnull().sum()"
      ],
      "execution_count": 123,
      "outputs": [
        {
          "output_type": "execute_result",
          "data": {
            "text/plain": [
              "a1     0\n",
              "a2     0\n",
              "a3     0\n",
              "a4     0\n",
              "a5     0\n",
              "a6     0\n",
              "a7     0\n",
              "a8     0\n",
              "a9     0\n",
              "a10    0\n",
              "a11    0\n",
              "a12    0\n",
              "a13    0\n",
              "a14    0\n",
              "a15    0\n",
              "a16    0\n",
              "dtype: int64"
            ]
          },
          "metadata": {
            "tags": []
          },
          "execution_count": 123
        }
      ]
    },
    {
      "cell_type": "markdown",
      "metadata": {
        "id": "OUoDWUG6gdJl"
      },
      "source": [
        "Apesar do dataset não apresentar valores vazios, é necessário verificar a existência de dados com marcadores. Os marcadores indicam valores que estão ausentes, mas que são importantes para o processo de mineração."
      ]
    },
    {
      "cell_type": "code",
      "metadata": {
        "id": "HvOMX_aOJaJ9",
        "colab": {
          "base_uri": "https://localhost:8080/",
          "height": 419
        },
        "outputId": "edf7f6ea-02ba-4d99-efc3-fa4d8c50771a"
      },
      "source": [
        "#Verificando nulos sinalizados com um marcador\n",
        "df.head(100)"
      ],
      "execution_count": 124,
      "outputs": [
        {
          "output_type": "execute_result",
          "data": {
            "text/html": [
              "<div>\n",
              "<style scoped>\n",
              "    .dataframe tbody tr th:only-of-type {\n",
              "        vertical-align: middle;\n",
              "    }\n",
              "\n",
              "    .dataframe tbody tr th {\n",
              "        vertical-align: top;\n",
              "    }\n",
              "\n",
              "    .dataframe thead th {\n",
              "        text-align: right;\n",
              "    }\n",
              "</style>\n",
              "<table border=\"1\" class=\"dataframe\">\n",
              "  <thead>\n",
              "    <tr style=\"text-align: right;\">\n",
              "      <th></th>\n",
              "      <th>a1</th>\n",
              "      <th>a2</th>\n",
              "      <th>a3</th>\n",
              "      <th>a4</th>\n",
              "      <th>a5</th>\n",
              "      <th>a6</th>\n",
              "      <th>a7</th>\n",
              "      <th>a8</th>\n",
              "      <th>a9</th>\n",
              "      <th>a10</th>\n",
              "      <th>a11</th>\n",
              "      <th>a12</th>\n",
              "      <th>a13</th>\n",
              "      <th>a14</th>\n",
              "      <th>a15</th>\n",
              "      <th>a16</th>\n",
              "    </tr>\n",
              "  </thead>\n",
              "  <tbody>\n",
              "    <tr>\n",
              "      <th>0</th>\n",
              "      <td>b</td>\n",
              "      <td>30.83</td>\n",
              "      <td>0.000</td>\n",
              "      <td>u</td>\n",
              "      <td>g</td>\n",
              "      <td>w</td>\n",
              "      <td>v</td>\n",
              "      <td>1.250</td>\n",
              "      <td>t</td>\n",
              "      <td>t</td>\n",
              "      <td>1</td>\n",
              "      <td>f</td>\n",
              "      <td>g</td>\n",
              "      <td>00202</td>\n",
              "      <td>0</td>\n",
              "      <td>+</td>\n",
              "    </tr>\n",
              "    <tr>\n",
              "      <th>1</th>\n",
              "      <td>a</td>\n",
              "      <td>58.67</td>\n",
              "      <td>4.460</td>\n",
              "      <td>u</td>\n",
              "      <td>g</td>\n",
              "      <td>q</td>\n",
              "      <td>h</td>\n",
              "      <td>3.040</td>\n",
              "      <td>t</td>\n",
              "      <td>t</td>\n",
              "      <td>6</td>\n",
              "      <td>f</td>\n",
              "      <td>g</td>\n",
              "      <td>00043</td>\n",
              "      <td>560</td>\n",
              "      <td>+</td>\n",
              "    </tr>\n",
              "    <tr>\n",
              "      <th>2</th>\n",
              "      <td>a</td>\n",
              "      <td>24.50</td>\n",
              "      <td>0.500</td>\n",
              "      <td>u</td>\n",
              "      <td>g</td>\n",
              "      <td>q</td>\n",
              "      <td>h</td>\n",
              "      <td>1.500</td>\n",
              "      <td>t</td>\n",
              "      <td>f</td>\n",
              "      <td>0</td>\n",
              "      <td>f</td>\n",
              "      <td>g</td>\n",
              "      <td>00280</td>\n",
              "      <td>824</td>\n",
              "      <td>+</td>\n",
              "    </tr>\n",
              "    <tr>\n",
              "      <th>3</th>\n",
              "      <td>b</td>\n",
              "      <td>27.83</td>\n",
              "      <td>1.540</td>\n",
              "      <td>u</td>\n",
              "      <td>g</td>\n",
              "      <td>w</td>\n",
              "      <td>v</td>\n",
              "      <td>3.750</td>\n",
              "      <td>t</td>\n",
              "      <td>t</td>\n",
              "      <td>5</td>\n",
              "      <td>t</td>\n",
              "      <td>g</td>\n",
              "      <td>00100</td>\n",
              "      <td>3</td>\n",
              "      <td>+</td>\n",
              "    </tr>\n",
              "    <tr>\n",
              "      <th>4</th>\n",
              "      <td>b</td>\n",
              "      <td>20.17</td>\n",
              "      <td>5.625</td>\n",
              "      <td>u</td>\n",
              "      <td>g</td>\n",
              "      <td>w</td>\n",
              "      <td>v</td>\n",
              "      <td>1.710</td>\n",
              "      <td>t</td>\n",
              "      <td>f</td>\n",
              "      <td>0</td>\n",
              "      <td>f</td>\n",
              "      <td>s</td>\n",
              "      <td>00120</td>\n",
              "      <td>0</td>\n",
              "      <td>+</td>\n",
              "    </tr>\n",
              "    <tr>\n",
              "      <th>...</th>\n",
              "      <td>...</td>\n",
              "      <td>...</td>\n",
              "      <td>...</td>\n",
              "      <td>...</td>\n",
              "      <td>...</td>\n",
              "      <td>...</td>\n",
              "      <td>...</td>\n",
              "      <td>...</td>\n",
              "      <td>...</td>\n",
              "      <td>...</td>\n",
              "      <td>...</td>\n",
              "      <td>...</td>\n",
              "      <td>...</td>\n",
              "      <td>...</td>\n",
              "      <td>...</td>\n",
              "      <td>...</td>\n",
              "    </tr>\n",
              "    <tr>\n",
              "      <th>95</th>\n",
              "      <td>a</td>\n",
              "      <td>28.58</td>\n",
              "      <td>3.540</td>\n",
              "      <td>u</td>\n",
              "      <td>g</td>\n",
              "      <td>i</td>\n",
              "      <td>bb</td>\n",
              "      <td>0.500</td>\n",
              "      <td>t</td>\n",
              "      <td>f</td>\n",
              "      <td>0</td>\n",
              "      <td>t</td>\n",
              "      <td>g</td>\n",
              "      <td>00171</td>\n",
              "      <td>0</td>\n",
              "      <td>-</td>\n",
              "    </tr>\n",
              "    <tr>\n",
              "      <th>96</th>\n",
              "      <td>b</td>\n",
              "      <td>23.00</td>\n",
              "      <td>0.625</td>\n",
              "      <td>y</td>\n",
              "      <td>p</td>\n",
              "      <td>aa</td>\n",
              "      <td>v</td>\n",
              "      <td>0.125</td>\n",
              "      <td>t</td>\n",
              "      <td>f</td>\n",
              "      <td>0</td>\n",
              "      <td>f</td>\n",
              "      <td>g</td>\n",
              "      <td>00180</td>\n",
              "      <td>1</td>\n",
              "      <td>-</td>\n",
              "    </tr>\n",
              "    <tr>\n",
              "      <th>97</th>\n",
              "      <td>b</td>\n",
              "      <td>?</td>\n",
              "      <td>0.500</td>\n",
              "      <td>u</td>\n",
              "      <td>g</td>\n",
              "      <td>c</td>\n",
              "      <td>bb</td>\n",
              "      <td>0.835</td>\n",
              "      <td>t</td>\n",
              "      <td>f</td>\n",
              "      <td>0</td>\n",
              "      <td>t</td>\n",
              "      <td>s</td>\n",
              "      <td>00320</td>\n",
              "      <td>0</td>\n",
              "      <td>-</td>\n",
              "    </tr>\n",
              "    <tr>\n",
              "      <th>98</th>\n",
              "      <td>a</td>\n",
              "      <td>22.50</td>\n",
              "      <td>11.000</td>\n",
              "      <td>y</td>\n",
              "      <td>p</td>\n",
              "      <td>q</td>\n",
              "      <td>v</td>\n",
              "      <td>3.000</td>\n",
              "      <td>t</td>\n",
              "      <td>f</td>\n",
              "      <td>0</td>\n",
              "      <td>t</td>\n",
              "      <td>g</td>\n",
              "      <td>00268</td>\n",
              "      <td>0</td>\n",
              "      <td>-</td>\n",
              "    </tr>\n",
              "    <tr>\n",
              "      <th>99</th>\n",
              "      <td>a</td>\n",
              "      <td>28.50</td>\n",
              "      <td>1.000</td>\n",
              "      <td>u</td>\n",
              "      <td>g</td>\n",
              "      <td>q</td>\n",
              "      <td>v</td>\n",
              "      <td>1.000</td>\n",
              "      <td>t</td>\n",
              "      <td>t</td>\n",
              "      <td>2</td>\n",
              "      <td>t</td>\n",
              "      <td>g</td>\n",
              "      <td>00167</td>\n",
              "      <td>500</td>\n",
              "      <td>-</td>\n",
              "    </tr>\n",
              "  </tbody>\n",
              "</table>\n",
              "<p>100 rows × 16 columns</p>\n",
              "</div>"
            ],
            "text/plain": [
              "   a1     a2      a3 a4 a5  a6  a7     a8 a9 a10  a11 a12 a13    a14  a15 a16\n",
              "0   b  30.83   0.000  u  g   w   v  1.250  t   t    1   f   g  00202    0   +\n",
              "1   a  58.67   4.460  u  g   q   h  3.040  t   t    6   f   g  00043  560   +\n",
              "2   a  24.50   0.500  u  g   q   h  1.500  t   f    0   f   g  00280  824   +\n",
              "3   b  27.83   1.540  u  g   w   v  3.750  t   t    5   t   g  00100    3   +\n",
              "4   b  20.17   5.625  u  g   w   v  1.710  t   f    0   f   s  00120    0   +\n",
              ".. ..    ...     ... .. ..  ..  ..    ... ..  ..  ...  ..  ..    ...  ...  ..\n",
              "95  a  28.58   3.540  u  g   i  bb  0.500  t   f    0   t   g  00171    0   -\n",
              "96  b  23.00   0.625  y  p  aa   v  0.125  t   f    0   f   g  00180    1   -\n",
              "97  b      ?   0.500  u  g   c  bb  0.835  t   f    0   t   s  00320    0   -\n",
              "98  a  22.50  11.000  y  p   q   v  3.000  t   f    0   t   g  00268    0   -\n",
              "99  a  28.50   1.000  u  g   q   v  1.000  t   t    2   t   g  00167  500   -\n",
              "\n",
              "[100 rows x 16 columns]"
            ]
          },
          "metadata": {
            "tags": []
          },
          "execution_count": 124
        }
      ]
    },
    {
      "cell_type": "markdown",
      "metadata": {
        "id": "7rqszCk8SOy9"
      },
      "source": [
        "Para o dataset analisado, os dados faltantes estão sinalizados utilizando uma \"?\", como visto na linha 97 coluna a2. Vamos converter os marcadores para valores NaN, para que sejam entendidos como valores nulos pelas blibliotecas."
      ]
    },
    {
      "cell_type": "code",
      "metadata": {
        "id": "DieSvdltGQzf",
        "colab": {
          "base_uri": "https://localhost:8080/",
          "height": 419
        },
        "outputId": "d4f68210-982a-4d06-f99c-625a26f8a4db"
      },
      "source": [
        "#Convertendo marcadores para NaN\n",
        "df = df.replace('?', np.nan)\n",
        "df.head(100)"
      ],
      "execution_count": 125,
      "outputs": [
        {
          "output_type": "execute_result",
          "data": {
            "text/html": [
              "<div>\n",
              "<style scoped>\n",
              "    .dataframe tbody tr th:only-of-type {\n",
              "        vertical-align: middle;\n",
              "    }\n",
              "\n",
              "    .dataframe tbody tr th {\n",
              "        vertical-align: top;\n",
              "    }\n",
              "\n",
              "    .dataframe thead th {\n",
              "        text-align: right;\n",
              "    }\n",
              "</style>\n",
              "<table border=\"1\" class=\"dataframe\">\n",
              "  <thead>\n",
              "    <tr style=\"text-align: right;\">\n",
              "      <th></th>\n",
              "      <th>a1</th>\n",
              "      <th>a2</th>\n",
              "      <th>a3</th>\n",
              "      <th>a4</th>\n",
              "      <th>a5</th>\n",
              "      <th>a6</th>\n",
              "      <th>a7</th>\n",
              "      <th>a8</th>\n",
              "      <th>a9</th>\n",
              "      <th>a10</th>\n",
              "      <th>a11</th>\n",
              "      <th>a12</th>\n",
              "      <th>a13</th>\n",
              "      <th>a14</th>\n",
              "      <th>a15</th>\n",
              "      <th>a16</th>\n",
              "    </tr>\n",
              "  </thead>\n",
              "  <tbody>\n",
              "    <tr>\n",
              "      <th>0</th>\n",
              "      <td>b</td>\n",
              "      <td>30.83</td>\n",
              "      <td>0.000</td>\n",
              "      <td>u</td>\n",
              "      <td>g</td>\n",
              "      <td>w</td>\n",
              "      <td>v</td>\n",
              "      <td>1.250</td>\n",
              "      <td>t</td>\n",
              "      <td>t</td>\n",
              "      <td>1</td>\n",
              "      <td>f</td>\n",
              "      <td>g</td>\n",
              "      <td>00202</td>\n",
              "      <td>0</td>\n",
              "      <td>+</td>\n",
              "    </tr>\n",
              "    <tr>\n",
              "      <th>1</th>\n",
              "      <td>a</td>\n",
              "      <td>58.67</td>\n",
              "      <td>4.460</td>\n",
              "      <td>u</td>\n",
              "      <td>g</td>\n",
              "      <td>q</td>\n",
              "      <td>h</td>\n",
              "      <td>3.040</td>\n",
              "      <td>t</td>\n",
              "      <td>t</td>\n",
              "      <td>6</td>\n",
              "      <td>f</td>\n",
              "      <td>g</td>\n",
              "      <td>00043</td>\n",
              "      <td>560</td>\n",
              "      <td>+</td>\n",
              "    </tr>\n",
              "    <tr>\n",
              "      <th>2</th>\n",
              "      <td>a</td>\n",
              "      <td>24.50</td>\n",
              "      <td>0.500</td>\n",
              "      <td>u</td>\n",
              "      <td>g</td>\n",
              "      <td>q</td>\n",
              "      <td>h</td>\n",
              "      <td>1.500</td>\n",
              "      <td>t</td>\n",
              "      <td>f</td>\n",
              "      <td>0</td>\n",
              "      <td>f</td>\n",
              "      <td>g</td>\n",
              "      <td>00280</td>\n",
              "      <td>824</td>\n",
              "      <td>+</td>\n",
              "    </tr>\n",
              "    <tr>\n",
              "      <th>3</th>\n",
              "      <td>b</td>\n",
              "      <td>27.83</td>\n",
              "      <td>1.540</td>\n",
              "      <td>u</td>\n",
              "      <td>g</td>\n",
              "      <td>w</td>\n",
              "      <td>v</td>\n",
              "      <td>3.750</td>\n",
              "      <td>t</td>\n",
              "      <td>t</td>\n",
              "      <td>5</td>\n",
              "      <td>t</td>\n",
              "      <td>g</td>\n",
              "      <td>00100</td>\n",
              "      <td>3</td>\n",
              "      <td>+</td>\n",
              "    </tr>\n",
              "    <tr>\n",
              "      <th>4</th>\n",
              "      <td>b</td>\n",
              "      <td>20.17</td>\n",
              "      <td>5.625</td>\n",
              "      <td>u</td>\n",
              "      <td>g</td>\n",
              "      <td>w</td>\n",
              "      <td>v</td>\n",
              "      <td>1.710</td>\n",
              "      <td>t</td>\n",
              "      <td>f</td>\n",
              "      <td>0</td>\n",
              "      <td>f</td>\n",
              "      <td>s</td>\n",
              "      <td>00120</td>\n",
              "      <td>0</td>\n",
              "      <td>+</td>\n",
              "    </tr>\n",
              "    <tr>\n",
              "      <th>...</th>\n",
              "      <td>...</td>\n",
              "      <td>...</td>\n",
              "      <td>...</td>\n",
              "      <td>...</td>\n",
              "      <td>...</td>\n",
              "      <td>...</td>\n",
              "      <td>...</td>\n",
              "      <td>...</td>\n",
              "      <td>...</td>\n",
              "      <td>...</td>\n",
              "      <td>...</td>\n",
              "      <td>...</td>\n",
              "      <td>...</td>\n",
              "      <td>...</td>\n",
              "      <td>...</td>\n",
              "      <td>...</td>\n",
              "    </tr>\n",
              "    <tr>\n",
              "      <th>95</th>\n",
              "      <td>a</td>\n",
              "      <td>28.58</td>\n",
              "      <td>3.540</td>\n",
              "      <td>u</td>\n",
              "      <td>g</td>\n",
              "      <td>i</td>\n",
              "      <td>bb</td>\n",
              "      <td>0.500</td>\n",
              "      <td>t</td>\n",
              "      <td>f</td>\n",
              "      <td>0</td>\n",
              "      <td>t</td>\n",
              "      <td>g</td>\n",
              "      <td>00171</td>\n",
              "      <td>0</td>\n",
              "      <td>-</td>\n",
              "    </tr>\n",
              "    <tr>\n",
              "      <th>96</th>\n",
              "      <td>b</td>\n",
              "      <td>23.00</td>\n",
              "      <td>0.625</td>\n",
              "      <td>y</td>\n",
              "      <td>p</td>\n",
              "      <td>aa</td>\n",
              "      <td>v</td>\n",
              "      <td>0.125</td>\n",
              "      <td>t</td>\n",
              "      <td>f</td>\n",
              "      <td>0</td>\n",
              "      <td>f</td>\n",
              "      <td>g</td>\n",
              "      <td>00180</td>\n",
              "      <td>1</td>\n",
              "      <td>-</td>\n",
              "    </tr>\n",
              "    <tr>\n",
              "      <th>97</th>\n",
              "      <td>b</td>\n",
              "      <td>NaN</td>\n",
              "      <td>0.500</td>\n",
              "      <td>u</td>\n",
              "      <td>g</td>\n",
              "      <td>c</td>\n",
              "      <td>bb</td>\n",
              "      <td>0.835</td>\n",
              "      <td>t</td>\n",
              "      <td>f</td>\n",
              "      <td>0</td>\n",
              "      <td>t</td>\n",
              "      <td>s</td>\n",
              "      <td>00320</td>\n",
              "      <td>0</td>\n",
              "      <td>-</td>\n",
              "    </tr>\n",
              "    <tr>\n",
              "      <th>98</th>\n",
              "      <td>a</td>\n",
              "      <td>22.50</td>\n",
              "      <td>11.000</td>\n",
              "      <td>y</td>\n",
              "      <td>p</td>\n",
              "      <td>q</td>\n",
              "      <td>v</td>\n",
              "      <td>3.000</td>\n",
              "      <td>t</td>\n",
              "      <td>f</td>\n",
              "      <td>0</td>\n",
              "      <td>t</td>\n",
              "      <td>g</td>\n",
              "      <td>00268</td>\n",
              "      <td>0</td>\n",
              "      <td>-</td>\n",
              "    </tr>\n",
              "    <tr>\n",
              "      <th>99</th>\n",
              "      <td>a</td>\n",
              "      <td>28.50</td>\n",
              "      <td>1.000</td>\n",
              "      <td>u</td>\n",
              "      <td>g</td>\n",
              "      <td>q</td>\n",
              "      <td>v</td>\n",
              "      <td>1.000</td>\n",
              "      <td>t</td>\n",
              "      <td>t</td>\n",
              "      <td>2</td>\n",
              "      <td>t</td>\n",
              "      <td>g</td>\n",
              "      <td>00167</td>\n",
              "      <td>500</td>\n",
              "      <td>-</td>\n",
              "    </tr>\n",
              "  </tbody>\n",
              "</table>\n",
              "<p>100 rows × 16 columns</p>\n",
              "</div>"
            ],
            "text/plain": [
              "   a1     a2      a3 a4 a5  a6  a7     a8 a9 a10  a11 a12 a13    a14  a15 a16\n",
              "0   b  30.83   0.000  u  g   w   v  1.250  t   t    1   f   g  00202    0   +\n",
              "1   a  58.67   4.460  u  g   q   h  3.040  t   t    6   f   g  00043  560   +\n",
              "2   a  24.50   0.500  u  g   q   h  1.500  t   f    0   f   g  00280  824   +\n",
              "3   b  27.83   1.540  u  g   w   v  3.750  t   t    5   t   g  00100    3   +\n",
              "4   b  20.17   5.625  u  g   w   v  1.710  t   f    0   f   s  00120    0   +\n",
              ".. ..    ...     ... .. ..  ..  ..    ... ..  ..  ...  ..  ..    ...  ...  ..\n",
              "95  a  28.58   3.540  u  g   i  bb  0.500  t   f    0   t   g  00171    0   -\n",
              "96  b  23.00   0.625  y  p  aa   v  0.125  t   f    0   f   g  00180    1   -\n",
              "97  b    NaN   0.500  u  g   c  bb  0.835  t   f    0   t   s  00320    0   -\n",
              "98  a  22.50  11.000  y  p   q   v  3.000  t   f    0   t   g  00268    0   -\n",
              "99  a  28.50   1.000  u  g   q   v  1.000  t   t    2   t   g  00167  500   -\n",
              "\n",
              "[100 rows x 16 columns]"
            ]
          },
          "metadata": {
            "tags": []
          },
          "execution_count": 125
        }
      ]
    },
    {
      "cell_type": "markdown",
      "metadata": {
        "id": "Ne2WDLz8myFm"
      },
      "source": [
        "Agora é possivel utilizar o gráfico da biblioteca missingno para visualizar a distribuição dos dados nulos."
      ]
    },
    {
      "cell_type": "code",
      "metadata": {
        "colab": {
          "base_uri": "https://localhost:8080/",
          "height": 642
        },
        "id": "iTjsxBs1nN9Y",
        "outputId": "41b74e92-0d93-4d68-ddd1-57eac08199fa"
      },
      "source": [
        "#Matrix com a distribuição de dados nulos.\n",
        "msno.matrix(df)"
      ],
      "execution_count": 126,
      "outputs": [
        {
          "output_type": "execute_result",
          "data": {
            "text/plain": [
              "<matplotlib.axes._subplots.AxesSubplot at 0x7f79c8154588>"
            ]
          },
          "metadata": {
            "tags": []
          },
          "execution_count": 126
        },
        {
          "output_type": "display_data",
          "data": {
            "image/png": "[encoded data removed]",
            "text/plain": [
              "<Figure size 1800x720 with 2 Axes>"
            ]
          },
          "metadata": {
            "tags": [],
            "needs_background": "light"
          }
        }
      ]
    },
    {
      "cell_type": "markdown",
      "metadata": {
        "id": "x43KJ1Ovqpc6"
      },
      "source": [
        "O atual Dataset não possui muitos nulos, para as váriaveis categorias os dados serão removidos e para as variávies continuas serão calculados por sua média. Dados nulos geram dados imprecisos após a etapa de processamento. Então é necessário alterar os dados."
      ]
    },
    {
      "cell_type": "code",
      "metadata": {
        "colab": {
          "base_uri": "https://localhost:8080/",
          "height": 297
        },
        "id": "ZD5_E0rB3XkG",
        "outputId": "f01c681b-4c9d-432e-cced-45fe3b7c946c"
      },
      "source": [
        "#Verificando as variávies númericas\n",
        "df.describe()"
      ],
      "execution_count": 127,
      "outputs": [
        {
          "output_type": "execute_result",
          "data": {
            "text/html": [
              "<div>\n",
              "<style scoped>\n",
              "    .dataframe tbody tr th:only-of-type {\n",
              "        vertical-align: middle;\n",
              "    }\n",
              "\n",
              "    .dataframe tbody tr th {\n",
              "        vertical-align: top;\n",
              "    }\n",
              "\n",
              "    .dataframe thead th {\n",
              "        text-align: right;\n",
              "    }\n",
              "</style>\n",
              "<table border=\"1\" class=\"dataframe\">\n",
              "  <thead>\n",
              "    <tr style=\"text-align: right;\">\n",
              "      <th></th>\n",
              "      <th>a3</th>\n",
              "      <th>a8</th>\n",
              "      <th>a11</th>\n",
              "      <th>a15</th>\n",
              "    </tr>\n",
              "  </thead>\n",
              "  <tbody>\n",
              "    <tr>\n",
              "      <th>count</th>\n",
              "      <td>690.000000</td>\n",
              "      <td>690.000000</td>\n",
              "      <td>690.00000</td>\n",
              "      <td>690.000000</td>\n",
              "    </tr>\n",
              "    <tr>\n",
              "      <th>mean</th>\n",
              "      <td>4.758725</td>\n",
              "      <td>2.223406</td>\n",
              "      <td>2.40000</td>\n",
              "      <td>1017.385507</td>\n",
              "    </tr>\n",
              "    <tr>\n",
              "      <th>std</th>\n",
              "      <td>4.978163</td>\n",
              "      <td>3.346513</td>\n",
              "      <td>4.86294</td>\n",
              "      <td>5210.102598</td>\n",
              "    </tr>\n",
              "    <tr>\n",
              "      <th>min</th>\n",
              "      <td>0.000000</td>\n",
              "      <td>0.000000</td>\n",
              "      <td>0.00000</td>\n",
              "      <td>0.000000</td>\n",
              "    </tr>\n",
              "    <tr>\n",
              "      <th>25%</th>\n",
              "      <td>1.000000</td>\n",
              "      <td>0.165000</td>\n",
              "      <td>0.00000</td>\n",
              "      <td>0.000000</td>\n",
              "    </tr>\n",
              "    <tr>\n",
              "      <th>50%</th>\n",
              "      <td>2.750000</td>\n",
              "      <td>1.000000</td>\n",
              "      <td>0.00000</td>\n",
              "      <td>5.000000</td>\n",
              "    </tr>\n",
              "    <tr>\n",
              "      <th>75%</th>\n",
              "      <td>7.207500</td>\n",
              "      <td>2.625000</td>\n",
              "      <td>3.00000</td>\n",
              "      <td>395.500000</td>\n",
              "    </tr>\n",
              "    <tr>\n",
              "      <th>max</th>\n",
              "      <td>28.000000</td>\n",
              "      <td>28.500000</td>\n",
              "      <td>67.00000</td>\n",
              "      <td>100000.000000</td>\n",
              "    </tr>\n",
              "  </tbody>\n",
              "</table>\n",
              "</div>"
            ],
            "text/plain": [
              "               a3          a8        a11            a15\n",
              "count  690.000000  690.000000  690.00000     690.000000\n",
              "mean     4.758725    2.223406    2.40000    1017.385507\n",
              "std      4.978163    3.346513    4.86294    5210.102598\n",
              "min      0.000000    0.000000    0.00000       0.000000\n",
              "25%      1.000000    0.165000    0.00000       0.000000\n",
              "50%      2.750000    1.000000    0.00000       5.000000\n",
              "75%      7.207500    2.625000    3.00000     395.500000\n",
              "max     28.000000   28.500000   67.00000  100000.000000"
            ]
          },
          "metadata": {
            "tags": []
          },
          "execution_count": 127
        }
      ]
    },
    {
      "cell_type": "code",
      "metadata": {
        "colab": {
          "base_uri": "https://localhost:8080/"
        },
        "id": "dv5c7yjU4xuH",
        "outputId": "82edbb10-4338-4c80-abf0-f67415144f45"
      },
      "source": [
        "#Verificando os tipos das váriaveis\n",
        "df.info()"
      ],
      "execution_count": 128,
      "outputs": [
        {
          "output_type": "stream",
          "text": [
            "<class 'pandas.core.frame.DataFrame'>\n",
            "RangeIndex: 690 entries, 0 to 689\n",
            "Data columns (total 16 columns):\n",
            " #   Column  Non-Null Count  Dtype  \n",
            "---  ------  --------------  -----  \n",
            " 0   a1      678 non-null    object \n",
            " 1   a2      678 non-null    object \n",
            " 2   a3      690 non-null    float64\n",
            " 3   a4      684 non-null    object \n",
            " 4   a5      684 non-null    object \n",
            " 5   a6      681 non-null    object \n",
            " 6   a7      681 non-null    object \n",
            " 7   a8      690 non-null    float64\n",
            " 8   a9      690 non-null    object \n",
            " 9   a10     690 non-null    object \n",
            " 10  a11     690 non-null    int64  \n",
            " 11  a12     690 non-null    object \n",
            " 12  a13     690 non-null    object \n",
            " 13  a14     677 non-null    object \n",
            " 14  a15     690 non-null    int64  \n",
            " 15  a16     690 non-null    object \n",
            "dtypes: float64(2), int64(2), object(12)\n",
            "memory usage: 86.4+ KB\n"
          ],
          "name": "stdout"
        }
      ]
    },
    {
      "cell_type": "markdown",
      "metadata": {
        "id": "VzBblNeV4WMj"
      },
      "source": [
        "As variáveis a2 e a14, são númericas, mas foram definidas com tipos diferentes. Vamos adicionar os tipos corretos."
      ]
    },
    {
      "cell_type": "code",
      "metadata": {
        "colab": {
          "base_uri": "https://localhost:8080/",
          "height": 297
        },
        "id": "RvamlKt15Iyd",
        "outputId": "371b4c6d-b7ae-4860-bc61-77bb4927c354"
      },
      "source": [
        "#Alterando os tipos das váriaveis\n",
        "df['a2'] = df['a2'].astype(np.float16)\n",
        "df['a14'] = df['a14'].astype(np.float16)\n",
        "df.describe()"
      ],
      "execution_count": 129,
      "outputs": [
        {
          "output_type": "execute_result",
          "data": {
            "text/html": [
              "<div>\n",
              "<style scoped>\n",
              "    .dataframe tbody tr th:only-of-type {\n",
              "        vertical-align: middle;\n",
              "    }\n",
              "\n",
              "    .dataframe tbody tr th {\n",
              "        vertical-align: top;\n",
              "    }\n",
              "\n",
              "    .dataframe thead th {\n",
              "        text-align: right;\n",
              "    }\n",
              "</style>\n",
              "<table border=\"1\" class=\"dataframe\">\n",
              "  <thead>\n",
              "    <tr style=\"text-align: right;\">\n",
              "      <th></th>\n",
              "      <th>a2</th>\n",
              "      <th>a3</th>\n",
              "      <th>a8</th>\n",
              "      <th>a11</th>\n",
              "      <th>a14</th>\n",
              "      <th>a15</th>\n",
              "    </tr>\n",
              "  </thead>\n",
              "  <tbody>\n",
              "    <tr>\n",
              "      <th>count</th>\n",
              "      <td>678.000000</td>\n",
              "      <td>690.000000</td>\n",
              "      <td>690.000000</td>\n",
              "      <td>690.00000</td>\n",
              "      <td>677.0</td>\n",
              "      <td>690.000000</td>\n",
              "    </tr>\n",
              "    <tr>\n",
              "      <th>mean</th>\n",
              "      <td>31.578125</td>\n",
              "      <td>4.758725</td>\n",
              "      <td>2.223406</td>\n",
              "      <td>2.40000</td>\n",
              "      <td>inf</td>\n",
              "      <td>1017.385507</td>\n",
              "    </tr>\n",
              "    <tr>\n",
              "      <th>std</th>\n",
              "      <td>11.960938</td>\n",
              "      <td>4.978163</td>\n",
              "      <td>3.346513</td>\n",
              "      <td>4.86294</td>\n",
              "      <td>inf</td>\n",
              "      <td>5210.102598</td>\n",
              "    </tr>\n",
              "    <tr>\n",
              "      <th>min</th>\n",
              "      <td>13.750000</td>\n",
              "      <td>0.000000</td>\n",
              "      <td>0.000000</td>\n",
              "      <td>0.00000</td>\n",
              "      <td>0.0</td>\n",
              "      <td>0.000000</td>\n",
              "    </tr>\n",
              "    <tr>\n",
              "      <th>25%</th>\n",
              "      <td>22.593750</td>\n",
              "      <td>1.000000</td>\n",
              "      <td>0.165000</td>\n",
              "      <td>0.00000</td>\n",
              "      <td>75.0</td>\n",
              "      <td>0.000000</td>\n",
              "    </tr>\n",
              "    <tr>\n",
              "      <th>50%</th>\n",
              "      <td>28.468750</td>\n",
              "      <td>2.750000</td>\n",
              "      <td>1.000000</td>\n",
              "      <td>0.00000</td>\n",
              "      <td>160.0</td>\n",
              "      <td>5.000000</td>\n",
              "    </tr>\n",
              "    <tr>\n",
              "      <th>75%</th>\n",
              "      <td>38.218750</td>\n",
              "      <td>7.207500</td>\n",
              "      <td>2.625000</td>\n",
              "      <td>3.00000</td>\n",
              "      <td>276.0</td>\n",
              "      <td>395.500000</td>\n",
              "    </tr>\n",
              "    <tr>\n",
              "      <th>max</th>\n",
              "      <td>80.250000</td>\n",
              "      <td>28.000000</td>\n",
              "      <td>28.500000</td>\n",
              "      <td>67.00000</td>\n",
              "      <td>2000.0</td>\n",
              "      <td>100000.000000</td>\n",
              "    </tr>\n",
              "  </tbody>\n",
              "</table>\n",
              "</div>"
            ],
            "text/plain": [
              "               a2          a3          a8        a11     a14            a15\n",
              "count  678.000000  690.000000  690.000000  690.00000   677.0     690.000000\n",
              "mean    31.578125    4.758725    2.223406    2.40000     inf    1017.385507\n",
              "std     11.960938    4.978163    3.346513    4.86294     inf    5210.102598\n",
              "min     13.750000    0.000000    0.000000    0.00000     0.0       0.000000\n",
              "25%     22.593750    1.000000    0.165000    0.00000    75.0       0.000000\n",
              "50%     28.468750    2.750000    1.000000    0.00000   160.0       5.000000\n",
              "75%     38.218750    7.207500    2.625000    3.00000   276.0     395.500000\n",
              "max     80.250000   28.000000   28.500000   67.00000  2000.0  100000.000000"
            ]
          },
          "metadata": {
            "tags": []
          },
          "execution_count": 129
        }
      ]
    },
    {
      "cell_type": "markdown",
      "metadata": {
        "id": "ilRN-DGa6Zu2"
      },
      "source": [
        "Como apresentado pelos colegas em sala, a váriavel a14 representa um código postal."
      ]
    },
    {
      "cell_type": "code",
      "metadata": {
        "id": "v6kPX7NorHaj"
      },
      "source": [
        "#Atualizando valores nulos da várivel a2 com sua média. \n",
        "a2_media = df.a2.median()\n",
        "df.a2.fillna(a2_media, inplace=True)\n"
      ],
      "execution_count": 131,
      "outputs": []
    },
    {
      "cell_type": "markdown",
      "metadata": {
        "id": "UEvTxM-4mP2w"
      },
      "source": [
        "Os valores nulos(NaN) foram preenchidos com a sua média na coluna a2."
      ]
    },
    {
      "cell_type": "code",
      "metadata": {
        "id": "rH9qFtTMma27"
      },
      "source": [
        "#Atualizando os valores nulos das váriaveis a1, a4, a5, a6, a7 com os valores mais frequentes\n",
        "a1_freq = df.a1.value_counts()[0:1]\n",
        "a4_freq = df.a4.value_counts()[0:1]\n",
        "a5_freq = df.a5.value_counts()[0:1]\n",
        "a6_freq = df.a6.value_counts()[0:1]\n",
        "a7_freq = df.a7.value_counts()[0:1]\n",
        "a14_freq = df.a14.value_counts()[0]\n",
        "df.a1.fillna(a1_freq, inplace=True)\n",
        "df.a4.fillna(a4_freq, inplace=True)\n",
        "df.a5.fillna(a5_freq, inplace=True)\n",
        "df.a6.fillna(a6_freq, inplace=True)\n",
        "df.a7.fillna(a7_freq, inplace=True)\n",
        "df.a14.fillna(a14_freq, inplace=True)"
      ],
      "execution_count": 132,
      "outputs": []
    },
    {
      "cell_type": "markdown",
      "metadata": {
        "id": "71ju9W4Txsee"
      },
      "source": [
        "Todos os dados nulos foram substituidos por suas médias para as váriaveis númericas. Para as váriaveis categóricas os valores que mais se repetem substituiram os nulos."
      ]
    },
    {
      "cell_type": "code",
      "metadata": {
        "colab": {
          "base_uri": "https://localhost:8080/"
        },
        "id": "npE1F7zn2y9i",
        "outputId": "a92d7ce8-a0be-4217-9096-5485732e5550"
      },
      "source": [
        "#Tranformar dados catégoricos em binários\n",
        "df_dummified = pd.get_dummies(df, columns=['a1', 'a4', 'a5', 'a6', 'a7', 'a9', 'a10', 'a12', 'a13', 'a16'])\n",
        "print(df_dummified)"
      ],
      "execution_count": 133,
      "outputs": [
        {
          "output_type": "stream",
          "text": [
            "            a2      a3    a8  a11    a14  ...  a13_g  a13_p  a13_s  a16_+  a16_-\n",
            "0    30.828125   0.000  1.25    1  202.0  ...      1      0      0      1      0\n",
            "1    58.656250   4.460  3.04    6   43.0  ...      1      0      0      1      0\n",
            "2    24.500000   0.500  1.50    0  280.0  ...      1      0      0      1      0\n",
            "3    27.828125   1.540  3.75    5  100.0  ...      1      0      0      1      0\n",
            "4    20.171875   5.625  1.71    0  120.0  ...      0      0      1      1      0\n",
            "..         ...     ...   ...  ...    ...  ...    ...    ...    ...    ...    ...\n",
            "685  21.078125  10.085  1.25    0  260.0  ...      1      0      0      0      1\n",
            "686  22.671875   0.750  2.00    2  200.0  ...      1      0      0      0      1\n",
            "687  25.250000  13.500  2.00    1  200.0  ...      1      0      0      0      1\n",
            "688  17.921875   0.205  0.04    0  280.0  ...      1      0      0      0      1\n",
            "689  35.000000   3.375  8.29    0    0.0  ...      1      0      0      0      1\n",
            "\n",
            "[690 rows x 48 columns]\n"
          ],
          "name": "stdout"
        }
      ]
    },
    {
      "cell_type": "markdown",
      "metadata": {
        "id": "D3oO5PiG_dnx"
      },
      "source": [
        "Os dados categóricos foram transformados para valores binários e categorizados por colunas, afim de facilitar sua utilização para o processamento."
      ]
    },
    {
      "cell_type": "code",
      "metadata": {
        "colab": {
          "base_uri": "https://localhost:8080/"
        },
        "id": "Jc4FyW4cF9TD",
        "outputId": "0c73163b-24d0-42a2-f85a-d07de977c89b"
      },
      "source": [
        "#Normalização dos dados númericos\n",
        "X = df_dummified.iloc[:, 0:3].values"
      ],
      "execution_count": 151,
      "outputs": [
        {
          "output_type": "stream",
          "text": [
            "[[3.0828125e+01 0.0000000e+00 1.2500000e+00]\n",
            " [5.8656250e+01 4.4600000e+00 3.0400000e+00]\n",
            " [2.4500000e+01 5.0000000e-01 1.5000000e+00]\n",
            " ...\n",
            " [2.5250000e+01 1.3500000e+01 2.0000000e+00]\n",
            " [1.7921875e+01 2.0500000e-01 4.0000000e-02]\n",
            " [3.5000000e+01 3.3750000e+00 8.2900000e+00]]\n"
          ],
          "name": "stdout"
        }
      ]
    },
    {
      "cell_type": "markdown",
      "metadata": {
        "id": "Sgjk0cJhLfBQ"
      },
      "source": [
        ""
      ]
    }
  ]
}