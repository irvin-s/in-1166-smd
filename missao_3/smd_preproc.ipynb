{
  "nbformat": 4,
  "nbformat_minor": 0,
  "metadata": {
    "colab": {
      "name": "smd_preproc.ipynb",
      "provenance": [],
      "collapsed_sections": [],
      "authorship_tag": "ABX9TyOmD7KMzYFvnHyxvN+qmI09"
    },
    "kernelspec": {
      "name": "python3",
      "display_name": "Python 3"
    }
  },
  "cells": [
    {
      "cell_type": "code",
      "metadata": {
        "id": "aWMbN3pIYHEp"
      },
      "source": [
        "import pandas as pd\n",
        "import seaborn as sb\n",
        "import matplotlib.pyplot as plt"
      ],
      "execution_count": 2,
      "outputs": []
    },
    {
      "cell_type": "code",
      "metadata": {
        "id": "3Y0hYAr6YuAe"
      },
      "source": [
        "df = pd.read_csv(\"https://raw.githubusercontent.com/irvin-s/in-1166-smd/main/missao_2/data/crx.data\", sep=',')"
      ],
      "execution_count": 3,
      "outputs": []
    }
  ]
}